# -*- coding: utf-8 -*-

import csv
import random
import numpy as np
import pandas as pd
import tensorflow as tf
#from sklearn.cross_validation import train_test_split
from sklearn.model_selection import train_test_split
from sklearn.feature_extraction import DictVectorizer
from sklearn import preprocessing

df = pd.read_csv('datas')
print(type(df))
#x_np = pd.read_csv('data1000s').fillna(0)
labelEncoder = preprocessing.LabelEncoder()
#df['Sex'] = labelEncoder.fit_transform(df['Sex'])              
#df['Cabin'] = labelEncoder.fit_transform(df['Cabin'])          
#df['Embarked'] = labelEncoder.fit_transform(df['Embarked'])    

x_np = np.array(df.fillna(0))
print(type(x_np))
#d = df[['Result']].to_dict('record')
ds = pd.read_csv('datar').to_dict('record')
                                      
#d = pd.read_csv('data1000r').to_dict('record')

resultList = []
for dd in ds:
    d = "0"
    dd = float(dd['Result'])
    if dd == 'Result':
        continue
    if dd > 0:
        d = "-1"
    elif dd < 0:
        d = "1"
    dct = {'Result': d }
    resultList.append(dct)
#print(resultList)

#print(x_np)
vectorizer = DictVectorizer(sparse=False)
y_np = vectorizer.fit_transform(resultList)
print(len(y_np))


# Parameters
learning_rate = 0.001 # 学習率 高いとcostの収束が早まる
training_epochs = 100 # 学習全体をこのエポック数で区切り、区切りごとにcostを表示する
batch_size = 56     # 学習1回ごと( sess.run()ごと )に訓練データをいくつ利用するか
display_step = 1     # 1なら毎エポックごとにcostを表示
train_size = round(len(y_np) * 0.8)     # 全データの中でいくつ訓練データに回すか
step_size = 5000     # 何ステップ学習するか

# Network Parameters
n_hidden_1 = 256      # 隠れ層1のユニットの数
n_hidden_2 = 128      # 隠れ層2のユニットの数
n_input = 56          # 与える変数の数
n_classes = 3        # 分類するクラスの数 今回は生き残ったか否かなので2

[x_train, x_test] = np.vsplit(x_np, [train_size]) # 入力データを訓練データとテストデータに分ける
[y_train, y_test] = np.vsplit(y_np, [train_size]) # ラベルを訓練データをテストデータに分ける

# tf Graph input
x = tf.placeholder("float", [None, n_input])
y = tf.placeholder("float", [None, n_classes])

# Create model
def multilayer_perceptron(x, weights, biases):
    # Hidden layer with RELU activation
    layer_1 = tf.add(tf.matmul(x, weights['h1']), biases['b1'])
    layer_1 = tf.nn.relu(layer_1)
    # Hidden layer with RELU activation
    layer_2 = tf.add(tf.matmul(layer_1, weights['h2']), biases['b2'])
    layer_2 = tf.nn.relu(layer_2)
    # Output layer with linear activation
    out_layer = tf.matmul(layer_2, weights['out']) + biases['out']
    return out_layer

# Store layers weight & bias
weights = {
    'h1': tf.Variable(tf.random_normal([n_input, n_hidden_1]), name='h1'),
    'h2': tf.Variable(tf.random_normal([n_hidden_1, n_hidden_2]), name='h2'),
    'out': tf.Variable(tf.random_normal([n_hidden_2, n_classes]), name='wout')
}
biases = {
    #'b1': tf.Variable(tf.random_normal([n_hidden_1])),
    #'b2': tf.Variable(tf.random_normal([n_hidden_2])),
    #'out': tf.Variable(tf.random_normal([n_classes]))
    'b1': tf.Variable(tf.zeros([n_hidden_1]), name='b1'),
    'b2': tf.Variable(tf.zeros([n_hidden_2]), name='b2'),
    'out': tf.Variable(tf.zeros([n_classes]), name='bout')
}

# Construct model
pred = multilayer_perceptron(x, weights, biases)
#print(pred)
# Define loss and optimizer
#cost = tf.reduce_mean(tf.nn.softmax_cross_entropy_with_logits(labels=pred,logits=y))
cost = tf.reduce_mean(tf.nn.softmax_cross_entropy_with_logits(labels=y,logits=pred))
#print(cost)
#print(type(tf.train.AdamOptimizer(learning_rate=learning_rate)))
#optimizer = tf.train.AdamOptimizer(learning_rate=learning_rate).minimize(cost)
print(cost)
optimizer = tf.train.RMSPropOptimizer(learning_rate=learning_rate).minimize(cost)
#optimizer = tf.train.GradientDescentOptimizer(0.5).minimize(cost)

# Initializing the variables
init = tf.global_variables_initializer()

# Launch the graph
with tf.Session() as sess:
    sess.run(init)

    # Training cycle
    for epoch in range(training_epochs):
        avg_cost = 0.

        # Loop over step_size
        for i in range(step_size):
            # 訓練データから batch_size で指定した数をランダムに取得
            ind = np.random.choice(batch_size, batch_size)
            #print(ind)
            x_train_batch = x_train[ind]
            y_train_batch = y_train[ind]
            # Run optimization op (backprop) and cost op (to get loss value)
            _, c = sess.run([optimizer, cost], feed_dict={x: x_train_batch,
                                                          y: y_train_batch})
            # Compute average loss
            avg_cost += c / step_size
        # Display logs per epoch step
        if epoch % display_step == 0:
            print("Epoch:", '%04d' % (epoch+1)+ "cost="+ "{:.9f}".format(avg_cost))
            print("Optimization Finished!")
            
            correct_prediction = tf.equal(tf.argmax(pred, 1), tf.argmax(y, 1))
            accuracy = tf.reduce_mean(tf.cast(correct_prediction, "float"))
            print( "Accuracy:", accuracy.eval({x: x_test, y: y_test}))

    # Test model
    correct_prediction = tf.equal(tf.argmax(pred, 1), tf.argmax(y, 1))
    # Calculate accuracy
    accuracy = tf.reduce_mean(tf.cast(correct_prediction, "float"))
    print( "Accuracy:", accuracy.eval({x: x_test, y: y_test}))